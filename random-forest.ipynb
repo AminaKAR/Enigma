{
 "cells": [
  {
   "cell_type": "code",
   "execution_count": 1,
   "metadata": {
    "_cell_guid": "b1076dfc-b9ad-4769-8c92-a6c4dae69d19",
    "_uuid": "8f2839f25d086af736a60e9eeb907d3b93b6e0e5"
   },
   "outputs": [],
   "source": [
    "import pandas as pd\n",
    "import numpy as np\n",
    "import matplotlib.pyplot as plt\n",
    "import seaborn as sns\n",
    "from sklearn.metrics import roc_auc_score\n",
    "\n"
   ]
  },
  {
   "cell_type": "code",
   "execution_count": 2,
   "metadata": {
    "_cell_guid": "79c7e3d0-c299-4dcb-8224-4455121ee9b0",
    "_uuid": "d629ff2d2480ee46fbb7e2d37f6b5fab8052498a"
   },
   "outputs": [
    {
     "name": "stdout",
     "output_type": "stream",
     "text": [
      "sample_submission.csv  test.csv  train.csv\r\n"
     ]
    }
   ],
   "source": [
    "! ls ../input"
   ]
  },
  {
   "cell_type": "code",
   "execution_count": 3,
   "metadata": {},
   "outputs": [],
   "source": [
    "Submission = pd.read_csv('../input/sample_submission.csv')"
   ]
  },
  {
   "cell_type": "code",
   "execution_count": 4,
   "metadata": {},
   "outputs": [],
   "source": [
    "test = pd.read_csv('../input/test.csv')"
   ]
  },
  {
   "cell_type": "code",
   "execution_count": 5,
   "metadata": {},
   "outputs": [],
   "source": [
    "train = pd.read_csv('../input/train.csv')"
   ]
  },
  {
   "cell_type": "code",
   "execution_count": 6,
   "metadata": {},
   "outputs": [
    {
     "data": {
      "text/html": [
       "<div>\n",
       "<style scoped>\n",
       "    .dataframe tbody tr th:only-of-type {\n",
       "        vertical-align: middle;\n",
       "    }\n",
       "\n",
       "    .dataframe tbody tr th {\n",
       "        vertical-align: top;\n",
       "    }\n",
       "\n",
       "    .dataframe thead th {\n",
       "        text-align: right;\n",
       "    }\n",
       "</style>\n",
       "<table border=\"1\" class=\"dataframe\">\n",
       "  <thead>\n",
       "    <tr style=\"text-align: right;\">\n",
       "      <th></th>\n",
       "      <th>product_number</th>\n",
       "      <th>department</th>\n",
       "      <th>category</th>\n",
       "      <th>creditCard</th>\n",
       "      <th>customer</th>\n",
       "      <th>var_32</th>\n",
       "      <th>var_33</th>\n",
       "      <th>var_34</th>\n",
       "      <th>var_35</th>\n",
       "      <th>var_36</th>\n",
       "      <th>var_37</th>\n",
       "      <th>var_38</th>\n",
       "      <th>var_39</th>\n",
       "      <th>total</th>\n",
       "      <th>target</th>\n",
       "    </tr>\n",
       "  </thead>\n",
       "  <tbody>\n",
       "    <tr>\n",
       "      <th>product_number</th>\n",
       "      <td>1.000000</td>\n",
       "      <td>-0.247604</td>\n",
       "      <td>-0.585016</td>\n",
       "      <td>-0.227674</td>\n",
       "      <td>-0.036352</td>\n",
       "      <td>-0.032045</td>\n",
       "      <td>0.122607</td>\n",
       "      <td>-0.097057</td>\n",
       "      <td>0.013838</td>\n",
       "      <td>-0.173891</td>\n",
       "      <td>-0.071697</td>\n",
       "      <td>-0.005054</td>\n",
       "      <td>0.107391</td>\n",
       "      <td>0.037159</td>\n",
       "      <td>-0.022551</td>\n",
       "    </tr>\n",
       "    <tr>\n",
       "      <th>department</th>\n",
       "      <td>-0.247604</td>\n",
       "      <td>1.000000</td>\n",
       "      <td>0.374351</td>\n",
       "      <td>-0.103567</td>\n",
       "      <td>-0.040559</td>\n",
       "      <td>0.028945</td>\n",
       "      <td>0.001427</td>\n",
       "      <td>-0.030812</td>\n",
       "      <td>0.034707</td>\n",
       "      <td>0.302680</td>\n",
       "      <td>0.098828</td>\n",
       "      <td>0.125508</td>\n",
       "      <td>-0.166982</td>\n",
       "      <td>-0.046229</td>\n",
       "      <td>-0.006794</td>\n",
       "    </tr>\n",
       "    <tr>\n",
       "      <th>category</th>\n",
       "      <td>-0.585016</td>\n",
       "      <td>0.374351</td>\n",
       "      <td>1.000000</td>\n",
       "      <td>0.282084</td>\n",
       "      <td>0.113972</td>\n",
       "      <td>0.030965</td>\n",
       "      <td>0.029558</td>\n",
       "      <td>-0.097295</td>\n",
       "      <td>0.004041</td>\n",
       "      <td>0.117886</td>\n",
       "      <td>0.149066</td>\n",
       "      <td>0.037291</td>\n",
       "      <td>-0.077608</td>\n",
       "      <td>0.045133</td>\n",
       "      <td>-0.003497</td>\n",
       "    </tr>\n",
       "    <tr>\n",
       "      <th>creditCard</th>\n",
       "      <td>-0.227674</td>\n",
       "      <td>-0.103567</td>\n",
       "      <td>0.282084</td>\n",
       "      <td>1.000000</td>\n",
       "      <td>0.170420</td>\n",
       "      <td>0.007885</td>\n",
       "      <td>-0.063388</td>\n",
       "      <td>0.034335</td>\n",
       "      <td>-0.063585</td>\n",
       "      <td>-0.056972</td>\n",
       "      <td>0.010197</td>\n",
       "      <td>-0.106041</td>\n",
       "      <td>-0.009695</td>\n",
       "      <td>-0.131318</td>\n",
       "      <td>0.040518</td>\n",
       "    </tr>\n",
       "    <tr>\n",
       "      <th>customer</th>\n",
       "      <td>-0.036352</td>\n",
       "      <td>-0.040559</td>\n",
       "      <td>0.113972</td>\n",
       "      <td>0.170420</td>\n",
       "      <td>1.000000</td>\n",
       "      <td>0.000010</td>\n",
       "      <td>0.003528</td>\n",
       "      <td>0.013632</td>\n",
       "      <td>0.008873</td>\n",
       "      <td>-0.057497</td>\n",
       "      <td>-0.003624</td>\n",
       "      <td>0.027874</td>\n",
       "      <td>0.025740</td>\n",
       "      <td>0.031693</td>\n",
       "      <td>0.006359</td>\n",
       "    </tr>\n",
       "    <tr>\n",
       "      <th>var_32</th>\n",
       "      <td>-0.032045</td>\n",
       "      <td>0.028945</td>\n",
       "      <td>0.030965</td>\n",
       "      <td>0.007885</td>\n",
       "      <td>0.000010</td>\n",
       "      <td>1.000000</td>\n",
       "      <td>0.021019</td>\n",
       "      <td>0.024827</td>\n",
       "      <td>0.219666</td>\n",
       "      <td>0.005486</td>\n",
       "      <td>0.048780</td>\n",
       "      <td>0.064465</td>\n",
       "      <td>-0.000094</td>\n",
       "      <td>-0.029975</td>\n",
       "      <td>-0.002069</td>\n",
       "    </tr>\n",
       "    <tr>\n",
       "      <th>var_33</th>\n",
       "      <td>0.122607</td>\n",
       "      <td>0.001427</td>\n",
       "      <td>0.029558</td>\n",
       "      <td>-0.063388</td>\n",
       "      <td>0.003528</td>\n",
       "      <td>0.021019</td>\n",
       "      <td>1.000000</td>\n",
       "      <td>-0.326142</td>\n",
       "      <td>-0.007465</td>\n",
       "      <td>-0.009851</td>\n",
       "      <td>0.091636</td>\n",
       "      <td>0.050657</td>\n",
       "      <td>0.003190</td>\n",
       "      <td>-0.013432</td>\n",
       "      <td>-0.056737</td>\n",
       "    </tr>\n",
       "    <tr>\n",
       "      <th>var_34</th>\n",
       "      <td>-0.097057</td>\n",
       "      <td>-0.030812</td>\n",
       "      <td>-0.097295</td>\n",
       "      <td>0.034335</td>\n",
       "      <td>0.013632</td>\n",
       "      <td>0.024827</td>\n",
       "      <td>-0.326142</td>\n",
       "      <td>1.000000</td>\n",
       "      <td>-0.001582</td>\n",
       "      <td>0.076786</td>\n",
       "      <td>-0.059319</td>\n",
       "      <td>-0.041182</td>\n",
       "      <td>-0.082281</td>\n",
       "      <td>0.075361</td>\n",
       "      <td>0.085369</td>\n",
       "    </tr>\n",
       "    <tr>\n",
       "      <th>var_35</th>\n",
       "      <td>0.013838</td>\n",
       "      <td>0.034707</td>\n",
       "      <td>0.004041</td>\n",
       "      <td>-0.063585</td>\n",
       "      <td>0.008873</td>\n",
       "      <td>0.219666</td>\n",
       "      <td>-0.007465</td>\n",
       "      <td>-0.001582</td>\n",
       "      <td>1.000000</td>\n",
       "      <td>-0.218964</td>\n",
       "      <td>-0.141157</td>\n",
       "      <td>0.106504</td>\n",
       "      <td>0.538441</td>\n",
       "      <td>0.234912</td>\n",
       "      <td>-0.038370</td>\n",
       "    </tr>\n",
       "    <tr>\n",
       "      <th>var_36</th>\n",
       "      <td>-0.173891</td>\n",
       "      <td>0.302680</td>\n",
       "      <td>0.117886</td>\n",
       "      <td>-0.056972</td>\n",
       "      <td>-0.057497</td>\n",
       "      <td>0.005486</td>\n",
       "      <td>-0.009851</td>\n",
       "      <td>0.076786</td>\n",
       "      <td>-0.218964</td>\n",
       "      <td>1.000000</td>\n",
       "      <td>0.104380</td>\n",
       "      <td>0.078275</td>\n",
       "      <td>-0.596027</td>\n",
       "      <td>-0.053135</td>\n",
       "      <td>0.013483</td>\n",
       "    </tr>\n",
       "    <tr>\n",
       "      <th>var_37</th>\n",
       "      <td>-0.071697</td>\n",
       "      <td>0.098828</td>\n",
       "      <td>0.149066</td>\n",
       "      <td>0.010197</td>\n",
       "      <td>-0.003624</td>\n",
       "      <td>0.048780</td>\n",
       "      <td>0.091636</td>\n",
       "      <td>-0.059319</td>\n",
       "      <td>-0.141157</td>\n",
       "      <td>0.104380</td>\n",
       "      <td>1.000000</td>\n",
       "      <td>0.066495</td>\n",
       "      <td>-0.243580</td>\n",
       "      <td>0.058321</td>\n",
       "      <td>-0.000324</td>\n",
       "    </tr>\n",
       "    <tr>\n",
       "      <th>var_38</th>\n",
       "      <td>-0.005054</td>\n",
       "      <td>0.125508</td>\n",
       "      <td>0.037291</td>\n",
       "      <td>-0.106041</td>\n",
       "      <td>0.027874</td>\n",
       "      <td>0.064465</td>\n",
       "      <td>0.050657</td>\n",
       "      <td>-0.041182</td>\n",
       "      <td>0.106504</td>\n",
       "      <td>0.078275</td>\n",
       "      <td>0.066495</td>\n",
       "      <td>1.000000</td>\n",
       "      <td>-0.062386</td>\n",
       "      <td>0.097909</td>\n",
       "      <td>-0.042772</td>\n",
       "    </tr>\n",
       "    <tr>\n",
       "      <th>var_39</th>\n",
       "      <td>0.107391</td>\n",
       "      <td>-0.166982</td>\n",
       "      <td>-0.077608</td>\n",
       "      <td>-0.009695</td>\n",
       "      <td>0.025740</td>\n",
       "      <td>-0.000094</td>\n",
       "      <td>0.003190</td>\n",
       "      <td>-0.082281</td>\n",
       "      <td>0.538441</td>\n",
       "      <td>-0.596027</td>\n",
       "      <td>-0.243580</td>\n",
       "      <td>-0.062386</td>\n",
       "      <td>1.000000</td>\n",
       "      <td>0.117397</td>\n",
       "      <td>-0.041670</td>\n",
       "    </tr>\n",
       "    <tr>\n",
       "      <th>total</th>\n",
       "      <td>0.037159</td>\n",
       "      <td>-0.046229</td>\n",
       "      <td>0.045133</td>\n",
       "      <td>-0.131318</td>\n",
       "      <td>0.031693</td>\n",
       "      <td>-0.029975</td>\n",
       "      <td>-0.013432</td>\n",
       "      <td>0.075361</td>\n",
       "      <td>0.234912</td>\n",
       "      <td>-0.053135</td>\n",
       "      <td>0.058321</td>\n",
       "      <td>0.097909</td>\n",
       "      <td>0.117397</td>\n",
       "      <td>1.000000</td>\n",
       "      <td>-0.056910</td>\n",
       "    </tr>\n",
       "    <tr>\n",
       "      <th>target</th>\n",
       "      <td>-0.022551</td>\n",
       "      <td>-0.006794</td>\n",
       "      <td>-0.003497</td>\n",
       "      <td>0.040518</td>\n",
       "      <td>0.006359</td>\n",
       "      <td>-0.002069</td>\n",
       "      <td>-0.056737</td>\n",
       "      <td>0.085369</td>\n",
       "      <td>-0.038370</td>\n",
       "      <td>0.013483</td>\n",
       "      <td>-0.000324</td>\n",
       "      <td>-0.042772</td>\n",
       "      <td>-0.041670</td>\n",
       "      <td>-0.056910</td>\n",
       "      <td>1.000000</td>\n",
       "    </tr>\n",
       "  </tbody>\n",
       "</table>\n",
       "</div>"
      ],
      "text/plain": [
       "                product_number  department    ...        total    target\n",
       "product_number        1.000000   -0.247604    ...     0.037159 -0.022551\n",
       "department           -0.247604    1.000000    ...    -0.046229 -0.006794\n",
       "category             -0.585016    0.374351    ...     0.045133 -0.003497\n",
       "creditCard           -0.227674   -0.103567    ...    -0.131318  0.040518\n",
       "customer             -0.036352   -0.040559    ...     0.031693  0.006359\n",
       "var_32               -0.032045    0.028945    ...    -0.029975 -0.002069\n",
       "var_33                0.122607    0.001427    ...    -0.013432 -0.056737\n",
       "var_34               -0.097057   -0.030812    ...     0.075361  0.085369\n",
       "var_35                0.013838    0.034707    ...     0.234912 -0.038370\n",
       "var_36               -0.173891    0.302680    ...    -0.053135  0.013483\n",
       "var_37               -0.071697    0.098828    ...     0.058321 -0.000324\n",
       "var_38               -0.005054    0.125508    ...     0.097909 -0.042772\n",
       "var_39                0.107391   -0.166982    ...     0.117397 -0.041670\n",
       "total                 0.037159   -0.046229    ...     1.000000 -0.056910\n",
       "target               -0.022551   -0.006794    ...    -0.056910  1.000000\n",
       "\n",
       "[15 rows x 15 columns]"
      ]
     },
     "execution_count": 6,
     "metadata": {},
     "output_type": "execute_result"
    }
   ],
   "source": [
    "# Correlation matrix\n",
    "corrmat = train.corr()\n",
    "corrmat"
   ]
  },
  {
   "cell_type": "code",
   "execution_count": 7,
   "metadata": {},
   "outputs": [
    {
     "data": {
      "image/png": "[encoded data removed]",
      "text/plain": [
       "<Figure size 864x648 with 2 Axes>"
      ]
     },
     "metadata": {},
     "output_type": "display_data"
    }
   ],
   "source": [
    "fig = plt.figure(figsize = (12, 9))\n",
    "\n",
    "sns.heatmap(corrmat, vmax = .8, square = True)\n",
    "plt.show()"
   ]
  },
  {
   "cell_type": "code",
   "execution_count": 8,
   "metadata": {},
   "outputs": [
    {
     "data": {
      "text/html": [
       "<div>\n",
       "<style scoped>\n",
       "    .dataframe tbody tr th:only-of-type {\n",
       "        vertical-align: middle;\n",
       "    }\n",
       "\n",
       "    .dataframe tbody tr th {\n",
       "        vertical-align: top;\n",
       "    }\n",
       "\n",
       "    .dataframe thead th {\n",
       "        text-align: right;\n",
       "    }\n",
       "</style>\n",
       "<table border=\"1\" class=\"dataframe\">\n",
       "  <thead>\n",
       "    <tr style=\"text-align: right;\">\n",
       "      <th></th>\n",
       "      <th>id</th>\n",
       "      <th>product_number</th>\n",
       "      <th>department</th>\n",
       "      <th>category</th>\n",
       "      <th>creditCard</th>\n",
       "      <th>customer</th>\n",
       "      <th>var_32</th>\n",
       "      <th>var_33</th>\n",
       "      <th>var_34</th>\n",
       "      <th>var_35</th>\n",
       "      <th>var_36</th>\n",
       "      <th>var_37</th>\n",
       "      <th>var_38</th>\n",
       "      <th>var_39</th>\n",
       "      <th>total</th>\n",
       "      <th>target</th>\n",
       "    </tr>\n",
       "  </thead>\n",
       "  <tbody>\n",
       "    <tr>\n",
       "      <th>0</th>\n",
       "      <td>id_11149922</td>\n",
       "      <td>5072</td>\n",
       "      <td>1852</td>\n",
       "      <td>25</td>\n",
       "      <td>6447</td>\n",
       "      <td>928147</td>\n",
       "      <td>0.725899</td>\n",
       "      <td>3</td>\n",
       "      <td>2</td>\n",
       "      <td>115</td>\n",
       "      <td>0</td>\n",
       "      <td>44</td>\n",
       "      <td>62</td>\n",
       "      <td>12</td>\n",
       "      <td>1.399162</td>\n",
       "      <td>0</td>\n",
       "    </tr>\n",
       "    <tr>\n",
       "      <th>1</th>\n",
       "      <td>id_15609305</td>\n",
       "      <td>4751</td>\n",
       "      <td>2212</td>\n",
       "      <td>6</td>\n",
       "      <td>1813</td>\n",
       "      <td>928147</td>\n",
       "      <td>-1.023377</td>\n",
       "      <td>3</td>\n",
       "      <td>2</td>\n",
       "      <td>215</td>\n",
       "      <td>0</td>\n",
       "      <td>2</td>\n",
       "      <td>110</td>\n",
       "      <td>39</td>\n",
       "      <td>0.286388</td>\n",
       "      <td>0</td>\n",
       "    </tr>\n",
       "    <tr>\n",
       "      <th>2</th>\n",
       "      <td>id_5222335</td>\n",
       "      <td>5817</td>\n",
       "      <td>528</td>\n",
       "      <td>2</td>\n",
       "      <td>6447</td>\n",
       "      <td>928147</td>\n",
       "      <td>-0.517814</td>\n",
       "      <td>3</td>\n",
       "      <td>2</td>\n",
       "      <td>55</td>\n",
       "      <td>0</td>\n",
       "      <td>2</td>\n",
       "      <td>0</td>\n",
       "      <td>20</td>\n",
       "      <td>-0.335599</td>\n",
       "      <td>0</td>\n",
       "    </tr>\n",
       "    <tr>\n",
       "      <th>3</th>\n",
       "      <td>id_1884252</td>\n",
       "      <td>3088</td>\n",
       "      <td>3682</td>\n",
       "      <td>24</td>\n",
       "      <td>6447</td>\n",
       "      <td>928147</td>\n",
       "      <td>-0.395321</td>\n",
       "      <td>3</td>\n",
       "      <td>2</td>\n",
       "      <td>6</td>\n",
       "      <td>2</td>\n",
       "      <td>4</td>\n",
       "      <td>110</td>\n",
       "      <td>6</td>\n",
       "      <td>-1.516403</td>\n",
       "      <td>0</td>\n",
       "    </tr>\n",
       "    <tr>\n",
       "      <th>4</th>\n",
       "      <td>id_12069677</td>\n",
       "      <td>2158</td>\n",
       "      <td>2204</td>\n",
       "      <td>24</td>\n",
       "      <td>6447</td>\n",
       "      <td>928147</td>\n",
       "      <td>0.610663</td>\n",
       "      <td>3</td>\n",
       "      <td>2</td>\n",
       "      <td>62</td>\n",
       "      <td>3</td>\n",
       "      <td>11</td>\n",
       "      <td>59</td>\n",
       "      <td>5</td>\n",
       "      <td>0.908375</td>\n",
       "      <td>0</td>\n",
       "    </tr>\n",
       "  </tbody>\n",
       "</table>\n",
       "</div>"
      ],
      "text/plain": [
       "            id  product_number  department   ...    var_39     total  target\n",
       "0  id_11149922            5072        1852   ...        12  1.399162       0\n",
       "1  id_15609305            4751        2212   ...        39  0.286388       0\n",
       "2   id_5222335            5817         528   ...        20 -0.335599       0\n",
       "3   id_1884252            3088        3682   ...         6 -1.516403       0\n",
       "4  id_12069677            2158        2204   ...         5  0.908375       0\n",
       "\n",
       "[5 rows x 16 columns]"
      ]
     },
     "execution_count": 8,
     "metadata": {},
     "output_type": "execute_result"
    }
   ],
   "source": [
    "train.head()"
   ]
  },
  {
   "cell_type": "code",
   "execution_count": 9,
   "metadata": {},
   "outputs": [
    {
     "data": {
      "text/plain": [
       "array([3, 2, 1, 5, 6, 0, 4, 7])"
      ]
     },
     "execution_count": 9,
     "metadata": {},
     "output_type": "execute_result"
    }
   ],
   "source": [
    "train.var_33.unique()"
   ]
  },
  {
   "cell_type": "code",
   "execution_count": 10,
   "metadata": {},
   "outputs": [
    {
     "data": {
      "text/plain": [
       "3    10320527\n",
       "2      519118\n",
       "1       99648\n",
       "5       23255\n",
       "0         907\n",
       "4         547\n",
       "7         345\n",
       "6         255\n",
       "Name: var_33, dtype: int64"
      ]
     },
     "execution_count": 10,
     "metadata": {},
     "output_type": "execute_result"
    }
   ],
   "source": [
    "train.var_33.value_counts()"
   ]
  },
  {
   "cell_type": "code",
   "execution_count": 11,
   "metadata": {},
   "outputs": [
    {
     "data": {
      "text/html": [
       "<div>\n",
       "<style scoped>\n",
       "    .dataframe tbody tr th:only-of-type {\n",
       "        vertical-align: middle;\n",
       "    }\n",
       "\n",
       "    .dataframe tbody tr th {\n",
       "        vertical-align: top;\n",
       "    }\n",
       "\n",
       "    .dataframe thead th {\n",
       "        text-align: right;\n",
       "    }\n",
       "</style>\n",
       "<table border=\"1\" class=\"dataframe\">\n",
       "  <thead>\n",
       "    <tr style=\"text-align: right;\">\n",
       "      <th></th>\n",
       "      <th>product_number</th>\n",
       "      <th>department</th>\n",
       "      <th>category</th>\n",
       "      <th>creditCard</th>\n",
       "      <th>customer</th>\n",
       "      <th>var_32</th>\n",
       "      <th>var_33</th>\n",
       "      <th>var_34</th>\n",
       "      <th>var_35</th>\n",
       "      <th>var_36</th>\n",
       "      <th>var_37</th>\n",
       "      <th>var_38</th>\n",
       "      <th>var_39</th>\n",
       "      <th>total</th>\n",
       "    </tr>\n",
       "  </thead>\n",
       "  <tbody>\n",
       "    <tr>\n",
       "      <th>count</th>\n",
       "      <td>5.220160e+06</td>\n",
       "      <td>5.220160e+06</td>\n",
       "      <td>5.220160e+06</td>\n",
       "      <td>5.220160e+06</td>\n",
       "      <td>5.220160e+06</td>\n",
       "      <td>5.220160e+06</td>\n",
       "      <td>5.220160e+06</td>\n",
       "      <td>5.220160e+06</td>\n",
       "      <td>5.220160e+06</td>\n",
       "      <td>5.220160e+06</td>\n",
       "      <td>5.220160e+06</td>\n",
       "      <td>5.220160e+06</td>\n",
       "      <td>5.220160e+06</td>\n",
       "      <td>5.220160e+06</td>\n",
       "    </tr>\n",
       "    <tr>\n",
       "      <th>mean</th>\n",
       "      <td>4.058756e+03</td>\n",
       "      <td>1.998115e+03</td>\n",
       "      <td>1.093411e+01</td>\n",
       "      <td>5.701060e+03</td>\n",
       "      <td>8.902795e+05</td>\n",
       "      <td>-2.797815e-03</td>\n",
       "      <td>2.909431e+00</td>\n",
       "      <td>2.139839e+00</td>\n",
       "      <td>1.370623e+02</td>\n",
       "      <td>1.445858e+00</td>\n",
       "      <td>1.177291e+01</td>\n",
       "      <td>4.270875e+01</td>\n",
       "      <td>1.864411e+01</td>\n",
       "      <td>-6.589159e-02</td>\n",
       "    </tr>\n",
       "    <tr>\n",
       "      <th>std</th>\n",
       "      <td>1.471863e+03</td>\n",
       "      <td>1.067493e+03</td>\n",
       "      <td>9.266319e+00</td>\n",
       "      <td>1.567957e+03</td>\n",
       "      <td>1.861433e+05</td>\n",
       "      <td>9.939574e-01</td>\n",
       "      <td>3.319442e-01</td>\n",
       "      <td>5.558938e-01</td>\n",
       "      <td>9.270542e+01</td>\n",
       "      <td>1.307717e+00</td>\n",
       "      <td>1.534135e+01</td>\n",
       "      <td>4.893939e+01</td>\n",
       "      <td>1.583848e+01</td>\n",
       "      <td>9.865463e-01</td>\n",
       "    </tr>\n",
       "    <tr>\n",
       "      <th>min</th>\n",
       "      <td>2.000000e+00</td>\n",
       "      <td>0.000000e+00</td>\n",
       "      <td>0.000000e+00</td>\n",
       "      <td>0.000000e+00</td>\n",
       "      <td>1.000000e+00</td>\n",
       "      <td>-1.617979e+00</td>\n",
       "      <td>0.000000e+00</td>\n",
       "      <td>0.000000e+00</td>\n",
       "      <td>0.000000e+00</td>\n",
       "      <td>0.000000e+00</td>\n",
       "      <td>0.000000e+00</td>\n",
       "      <td>0.000000e+00</td>\n",
       "      <td>0.000000e+00</td>\n",
       "      <td>-1.144876e+01</td>\n",
       "    </tr>\n",
       "    <tr>\n",
       "      <th>25%</th>\n",
       "      <td>3.088000e+03</td>\n",
       "      <td>1.258000e+03</td>\n",
       "      <td>4.000000e+00</td>\n",
       "      <td>6.183000e+03</td>\n",
       "      <td>9.281470e+05</td>\n",
       "      <td>-9.388662e-01</td>\n",
       "      <td>3.000000e+00</td>\n",
       "      <td>2.000000e+00</td>\n",
       "      <td>6.200000e+01</td>\n",
       "      <td>0.000000e+00</td>\n",
       "      <td>2.000000e+00</td>\n",
       "      <td>0.000000e+00</td>\n",
       "      <td>5.000000e+00</td>\n",
       "      <td>-3.355989e-01</td>\n",
       "    </tr>\n",
       "    <tr>\n",
       "      <th>50%</th>\n",
       "      <td>4.751000e+03</td>\n",
       "      <td>2.212000e+03</td>\n",
       "      <td>6.000000e+00</td>\n",
       "      <td>6.447000e+03</td>\n",
       "      <td>9.281470e+05</td>\n",
       "      <td>-9.538380e-02</td>\n",
       "      <td>3.000000e+00</td>\n",
       "      <td>2.000000e+00</td>\n",
       "      <td>1.160000e+02</td>\n",
       "      <td>2.000000e+00</td>\n",
       "      <td>4.000000e+00</td>\n",
       "      <td>1.400000e+01</td>\n",
       "      <td>1.400000e+01</td>\n",
       "      <td>2.151189e-01</td>\n",
       "    </tr>\n",
       "    <tr>\n",
       "      <th>75%</th>\n",
       "      <td>4.751000e+03</td>\n",
       "      <td>2.269000e+03</td>\n",
       "      <td>2.400000e+01</td>\n",
       "      <td>6.447000e+03</td>\n",
       "      <td>9.281470e+05</td>\n",
       "      <td>8.974464e-01</td>\n",
       "      <td>3.000000e+00</td>\n",
       "      <td>2.000000e+00</td>\n",
       "      <td>2.110000e+02</td>\n",
       "      <td>3.000000e+00</td>\n",
       "      <td>1.100000e+01</td>\n",
       "      <td>6.500000e+01</td>\n",
       "      <td>2.000000e+01</td>\n",
       "      <td>2.863883e-01</td>\n",
       "    </tr>\n",
       "    <tr>\n",
       "      <th>max</th>\n",
       "      <td>6.127000e+03</td>\n",
       "      <td>4.193000e+03</td>\n",
       "      <td>2.500000e+01</td>\n",
       "      <td>6.990000e+03</td>\n",
       "      <td>1.401927e+06</td>\n",
       "      <td>1.655276e+00</td>\n",
       "      <td>7.000000e+00</td>\n",
       "      <td>8.000000e+00</td>\n",
       "      <td>3.700000e+02</td>\n",
       "      <td>3.000000e+00</td>\n",
       "      <td>6.200000e+01</td>\n",
       "      <td>1.710000e+02</td>\n",
       "      <td>5.100000e+01</td>\n",
       "      <td>3.938133e+00</td>\n",
       "    </tr>\n",
       "  </tbody>\n",
       "</table>\n",
       "</div>"
      ],
      "text/plain": [
       "       product_number    department      ...             var_39         total\n",
       "count    5.220160e+06  5.220160e+06      ...       5.220160e+06  5.220160e+06\n",
       "mean     4.058756e+03  1.998115e+03      ...       1.864411e+01 -6.589159e-02\n",
       "std      1.471863e+03  1.067493e+03      ...       1.583848e+01  9.865463e-01\n",
       "min      2.000000e+00  0.000000e+00      ...       0.000000e+00 -1.144876e+01\n",
       "25%      3.088000e+03  1.258000e+03      ...       5.000000e+00 -3.355989e-01\n",
       "50%      4.751000e+03  2.212000e+03      ...       1.400000e+01  2.151189e-01\n",
       "75%      4.751000e+03  2.269000e+03      ...       2.000000e+01  2.863883e-01\n",
       "max      6.127000e+03  4.193000e+03      ...       5.100000e+01  3.938133e+00\n",
       "\n",
       "[8 rows x 14 columns]"
      ]
     },
     "execution_count": 11,
     "metadata": {},
     "output_type": "execute_result"
    }
   ],
   "source": [
    "test.describe()"
   ]
  },
  {
   "cell_type": "code",
   "execution_count": 12,
   "metadata": {},
   "outputs": [],
   "source": [
    "#random forest, extratrees\n",
    "#linear regression : lasso , ridge\n",
    "#decision tree \n",
    "#svm\n",
    "#neural net\n",
    "#k nearest neighbours\n",
    "#gradient boosted treesa"
   ]
  },
  {
   "cell_type": "code",
   "execution_count": 13,
   "metadata": {},
   "outputs": [],
   "source": [
    "from sklearn.ensemble import RandomForestClassifier\n",
    "from sklearn.model_selection import train_test_split\n",
    "from sklearn.preprocessing import LabelEncoder"
   ]
  },
  {
   "cell_type": "code",
   "execution_count": 14,
   "metadata": {},
   "outputs": [
    {
     "data": {
      "text/plain": [
       "Index(['id', 'product_number', 'department', 'category', 'creditCard',\n",
       "       'customer', 'var_32', 'var_33', 'var_34', 'var_35', 'var_36', 'var_37',\n",
       "       'var_38', 'var_39', 'total', 'target'],\n",
       "      dtype='object')"
      ]
     },
     "execution_count": 14,
     "metadata": {},
     "output_type": "execute_result"
    }
   ],
   "source": [
    "train.columns"
   ]
  },
  {
   "cell_type": "code",
   "execution_count": 15,
   "metadata": {},
   "outputs": [],
   "source": [
    "cols= [ 'product_number', 'department', 'category', 'creditCard',\n",
    "       'customer', 'var_32', 'var_33', 'var_34', 'var_35', 'var_36', 'var_37',\n",
    "       'var_38', 'var_39', 'total']"
   ]
  },
  {
   "cell_type": "code",
   "execution_count": 16,
   "metadata": {},
   "outputs": [],
   "source": [
    "X_train, X_validation, y_train, y_validation = train_test_split(train.drop('target',axis=1), train.target, test_size=0.2, random_state=42)"
   ]
  },
  {
   "cell_type": "code",
   "execution_count": 17,
   "metadata": {},
   "outputs": [],
   "source": [
    "RF = RandomForestClassifier(n_estimators=200, criterion='gini', max_depth=4, min_samples_split=2, \n",
    "                            min_samples_leaf=1, min_weight_fraction_leaf=0.0, max_leaf_nodes=None, \n",
    "                            min_impurity_decrease=0.0, min_impurity_split=None, bootstrap=True, \n",
    "                            oob_score=False, n_jobs=4, random_state=None, verbose=True, warm_start=False, class_weight=None)"
   ]
  },
  {
   "cell_type": "code",
   "execution_count": 18,
   "metadata": {},
   "outputs": [],
   "source": []
  },
  {
   "cell_type": "code",
   "execution_count": 18,
   "metadata": {},
   "outputs": [
    {
     "name": "stderr",
     "output_type": "stream",
     "text": [
      "[Parallel(n_jobs=4)]: Using backend ThreadingBackend with 4 concurrent workers.\n",
      "[Parallel(n_jobs=4)]: Done  42 tasks      | elapsed:  7.5min\n",
      "[Parallel(n_jobs=4)]: Done 192 tasks      | elapsed: 33.6min\n",
      "[Parallel(n_jobs=4)]: Done 200 out of 200 | elapsed: 34.7min finished\n"
     ]
    },
    {
     "data": {
      "text/plain": [
       "RandomForestClassifier(bootstrap=True, class_weight=None, criterion='gini',\n",
       "            max_depth=4, max_features='auto', max_leaf_nodes=None,\n",
       "            min_impurity_decrease=0.0, min_impurity_split=None,\n",
       "            min_samples_leaf=1, min_samples_split=2,\n",
       "            min_weight_fraction_leaf=0.0, n_estimators=200, n_jobs=4,\n",
       "            oob_score=False, random_state=None, verbose=True,\n",
       "            warm_start=False)"
      ]
     },
     "execution_count": 18,
     "metadata": {},
     "output_type": "execute_result"
    }
   ],
   "source": [
    "RF.fit(X_train[cols], y_train)"
   ]
  },
  {
   "cell_type": "code",
   "execution_count": 19,
   "metadata": {},
   "outputs": [
    {
     "name": "stderr",
     "output_type": "stream",
     "text": [
      "[Parallel(n_jobs=4)]: Using backend ThreadingBackend with 4 concurrent workers.\n",
      "[Parallel(n_jobs=4)]: Done  42 tasks      | elapsed:    4.5s\n",
      "[Parallel(n_jobs=4)]: Done 192 tasks      | elapsed:   19.9s\n",
      "[Parallel(n_jobs=4)]: Done 200 out of 200 | elapsed:   20.6s finished\n"
     ]
    },
    {
     "data": {
      "text/plain": [
       "array([0.08103994, 0.03497898, 0.01604908, ..., 0.06179358, 0.06157992,\n",
       "       0.05909368])"
      ]
     },
     "execution_count": 19,
     "metadata": {},
     "output_type": "execute_result"
    }
   ],
   "source": [
    "RF.predict_proba(X_validation[cols])[:,1]"
   ]
  },
  {
   "cell_type": "code",
   "execution_count": 20,
   "metadata": {},
   "outputs": [
    {
     "name": "stderr",
     "output_type": "stream",
     "text": [
      "[Parallel(n_jobs=4)]: Using backend ThreadingBackend with 4 concurrent workers.\n",
      "[Parallel(n_jobs=4)]: Done  42 tasks      | elapsed:    4.5s\n",
      "[Parallel(n_jobs=4)]: Done 192 tasks      | elapsed:   19.9s\n",
      "[Parallel(n_jobs=4)]: Done 200 out of 200 | elapsed:   20.6s finished\n"
     ]
    }
   ],
   "source": [
    "random_forest_predictions = RF.predict_proba(X_validation[cols])"
   ]
  },
  {
   "cell_type": "code",
   "execution_count": 21,
   "metadata": {},
   "outputs": [
    {
     "data": {
      "text/plain": [
       "array([[0.91896006, 0.08103994],\n",
       "       [0.96502102, 0.03497898],\n",
       "       [0.98395092, 0.01604908],\n",
       "       ...,\n",
       "       [0.93820642, 0.06179358],\n",
       "       [0.93842008, 0.06157992],\n",
       "       [0.94090632, 0.05909368]])"
      ]
     },
     "execution_count": 21,
     "metadata": {},
     "output_type": "execute_result"
    }
   ],
   "source": [
    "random_forest_predictions"
   ]
  },
  {
   "cell_type": "code",
   "execution_count": 22,
   "metadata": {},
   "outputs": [],
   "source": [
    "val_preds = random_forest_predictions[:,1]"
   ]
  },
  {
   "cell_type": "code",
   "execution_count": 23,
   "metadata": {},
   "outputs": [
    {
     "data": {
      "text/plain": [
       "0.6792816475299467"
      ]
     },
     "execution_count": 23,
     "metadata": {},
     "output_type": "execute_result"
    }
   ],
   "source": [
    "roc_auc_score(y_validation,val_preds)"
   ]
  },
  {
   "cell_type": "code",
   "execution_count": 24,
   "metadata": {},
   "outputs": [
    {
     "name": "stderr",
     "output_type": "stream",
     "text": [
      "[Parallel(n_jobs=4)]: Using backend ThreadingBackend with 4 concurrent workers.\n",
      "[Parallel(n_jobs=4)]: Done  42 tasks      | elapsed:   11.7s\n",
      "[Parallel(n_jobs=4)]: Done 192 tasks      | elapsed:   53.4s\n",
      "[Parallel(n_jobs=4)]: Done 200 out of 200 | elapsed:   55.3s finished\n"
     ]
    }
   ],
   "source": [
    "#Predict test\n",
    "test_pred = RF.predict_proba(test.drop('id',axis=1))[:,1]"
   ]
  },
  {
   "cell_type": "code",
   "execution_count": 25,
   "metadata": {},
   "outputs": [],
   "source": [
    "Submission['target'] = test_pred"
   ]
  },
  {
   "cell_type": "code",
   "execution_count": 26,
   "metadata": {},
   "outputs": [],
   "source": [
    "Submission.to_csv('submission1.csv',index=False)"
   ]
  },
  {
   "cell_type": "code",
   "execution_count": 27,
   "metadata": {},
   "outputs": [],
   "source": []
  }
 ],
 "metadata": {
  "kernelspec": {
   "display_name": "Python 3",
   "language": "python",
   "name": "python3"
  },
  "language_info": {
   "codemirror_mode": {
    "name": "ipython",
    "version": 3
   },
   "file_extension": ".py",
   "mimetype": "text/x-python",
   "name": "python",
   "nbconvert_exporter": "python",
   "pygments_lexer": "ipython3",
   "version": "3.6.4"
  }
 },
 "nbformat": 4,
 "nbformat_minor": 1
}
